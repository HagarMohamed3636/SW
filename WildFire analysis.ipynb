{
  "nbformat": 4,
  "nbformat_minor": 0,
  "metadata": {
    "colab": {
      "name": "Untitled1.ipynb",
      "provenance": []
    },
    "kernelspec": {
      "name": "python3",
      "display_name": "Python 3"
    },
    "language_info": {
      "name": "python"
    }
  },
  "cells": [
    {
      "cell_type": "code",
      "metadata": {
        "colab": {
          "base_uri": "https://localhost:8080/"
        },
        "id": "OT7xr1azk5cH",
        "outputId": "350b321f-51ff-4e1a-bb0a-1716d1bbb1ea"
      },
      "source": [
        "!pip install wget"
      ],
      "execution_count": 21,
      "outputs": [
        {
          "output_type": "stream",
          "text": [
            "Requirement already satisfied: wget in /usr/local/lib/python3.7/dist-packages (3.2)\n"
          ],
          "name": "stdout"
        }
      ]
    },
    {
      "cell_type": "code",
      "metadata": {
        "id": "tBcZiop7lBpv"
      },
      "source": [
        "import wget\n",
        "import zipfile\n",
        "wget.download('https://raw.githubusercontent.com/Call-for-Code/Spot-Challenge-Wildfires/main/data/Nov_10.zip', 'Nov_10.zip')\n",
        "zip_handle = zipfile.ZipFile(\"Nov_10.zip\")\n",
        "zip_handle.extractall()"
      ],
      "execution_count": 22,
      "outputs": []
    },
    {
      "cell_type": "code",
      "metadata": {
        "id": "Kvu8qQgMlGNR"
      },
      "source": [
        "\n",
        "import pandas as pd\n",
        "import numpy as np"
      ],
      "execution_count": 23,
      "outputs": []
    },
    {
      "cell_type": "code",
      "metadata": {
        "colab": {
          "base_uri": "https://localhost:8080/",
          "height": 258
        },
        "id": "Pz3awaiLlKRt",
        "outputId": "92c7d546-8554-4ad5-fe40-887c89323b8d"
      },
      "source": [
        "\n",
        "file_wildfires = \"/content/Nov_10/Historical_Wildfires.csv\"\n",
        "print(\"Reading file: '{}'\".format(file_wildfires))\n",
        "df = pd.read_csv(file_wildfires)\n",
        "print(\"Loaded...\")\n",
        "\n",
        "df.head()"
      ],
      "execution_count": 30,
      "outputs": [
        {
          "output_type": "stream",
          "text": [
            "Reading file: '/content/Nov_10/Historical_Wildfires.csv'\n",
            "Loaded...\n"
          ],
          "name": "stdout"
        },
        {
          "output_type": "execute_result",
          "data": {
            "text/html": [
              "<div>\n",
              "<style scoped>\n",
              "    .dataframe tbody tr th:only-of-type {\n",
              "        vertical-align: middle;\n",
              "    }\n",
              "\n",
              "    .dataframe tbody tr th {\n",
              "        vertical-align: top;\n",
              "    }\n",
              "\n",
              "    .dataframe thead th {\n",
              "        text-align: right;\n",
              "    }\n",
              "</style>\n",
              "<table border=\"1\" class=\"dataframe\">\n",
              "  <thead>\n",
              "    <tr style=\"text-align: right;\">\n",
              "      <th></th>\n",
              "      <th>Region</th>\n",
              "      <th>Date</th>\n",
              "      <th>Estimated_fire_area</th>\n",
              "      <th>Mean_estimated_fire_brightness</th>\n",
              "      <th>Mean_estimated_fire_radiative_power</th>\n",
              "      <th>Mean_confidence</th>\n",
              "      <th>Std_confidence</th>\n",
              "      <th>Var_confidence</th>\n",
              "      <th>Count</th>\n",
              "      <th>Replaced</th>\n",
              "    </tr>\n",
              "  </thead>\n",
              "  <tbody>\n",
              "    <tr>\n",
              "      <th>0</th>\n",
              "      <td>NSW</td>\n",
              "      <td>1/4/2005</td>\n",
              "      <td>8.68000</td>\n",
              "      <td>312.266667</td>\n",
              "      <td>42.400000</td>\n",
              "      <td>78.666667</td>\n",
              "      <td>2.886751</td>\n",
              "      <td>8.333333</td>\n",
              "      <td>3</td>\n",
              "      <td>R</td>\n",
              "    </tr>\n",
              "    <tr>\n",
              "      <th>1</th>\n",
              "      <td>NSW</td>\n",
              "      <td>1/5/2005</td>\n",
              "      <td>16.61125</td>\n",
              "      <td>322.475000</td>\n",
              "      <td>62.362500</td>\n",
              "      <td>85.500000</td>\n",
              "      <td>8.088793</td>\n",
              "      <td>65.428571</td>\n",
              "      <td>8</td>\n",
              "      <td>R</td>\n",
              "    </tr>\n",
              "    <tr>\n",
              "      <th>2</th>\n",
              "      <td>NSW</td>\n",
              "      <td>1/6/2005</td>\n",
              "      <td>5.52000</td>\n",
              "      <td>325.266667</td>\n",
              "      <td>38.400000</td>\n",
              "      <td>78.333333</td>\n",
              "      <td>3.214550</td>\n",
              "      <td>10.333333</td>\n",
              "      <td>3</td>\n",
              "      <td>R</td>\n",
              "    </tr>\n",
              "    <tr>\n",
              "      <th>3</th>\n",
              "      <td>NSW</td>\n",
              "      <td>1/7/2005</td>\n",
              "      <td>6.26400</td>\n",
              "      <td>313.870000</td>\n",
              "      <td>33.800000</td>\n",
              "      <td>92.200000</td>\n",
              "      <td>7.529940</td>\n",
              "      <td>56.700000</td>\n",
              "      <td>5</td>\n",
              "      <td>R</td>\n",
              "    </tr>\n",
              "    <tr>\n",
              "      <th>4</th>\n",
              "      <td>NSW</td>\n",
              "      <td>1/8/2005</td>\n",
              "      <td>5.40000</td>\n",
              "      <td>337.383333</td>\n",
              "      <td>122.533333</td>\n",
              "      <td>91.000000</td>\n",
              "      <td>7.937254</td>\n",
              "      <td>63.000000</td>\n",
              "      <td>3</td>\n",
              "      <td>R</td>\n",
              "    </tr>\n",
              "  </tbody>\n",
              "</table>\n",
              "</div>"
            ],
            "text/plain": [
              "  Region      Date  Estimated_fire_area  ...  Var_confidence  Count  Replaced\n",
              "0    NSW  1/4/2005              8.68000  ...        8.333333      3         R\n",
              "1    NSW  1/5/2005             16.61125  ...       65.428571      8         R\n",
              "2    NSW  1/6/2005              5.52000  ...       10.333333      3         R\n",
              "3    NSW  1/7/2005              6.26400  ...       56.700000      5         R\n",
              "4    NSW  1/8/2005              5.40000  ...       63.000000      3         R\n",
              "\n",
              "[5 rows x 10 columns]"
            ]
          },
          "metadata": {
            "tags": []
          },
          "execution_count": 30
        }
      ]
    },
    {
      "cell_type": "code",
      "metadata": {
        "colab": {
          "base_uri": "https://localhost:8080/"
        },
        "id": "PsRwZfmy37ms",
        "outputId": "8bd4e66e-93c2-45b6-c9bf-98019ef5337b"
      },
      "source": [
        "num_rows, num_cols = df.shape\n",
        "print(\"There are total {} records in the following {} columns:\\n\".format(num_rows, num_cols))\n",
        "print(\"\\n\".join(list(df.columns)))"
      ],
      "execution_count": 31,
      "outputs": [
        {
          "output_type": "stream",
          "text": [
            "There are total 26406 records in the following 10 columns:\n",
            "\n",
            "Region\n",
            "Date\n",
            "Estimated_fire_area\n",
            "Mean_estimated_fire_brightness\n",
            "Mean_estimated_fire_radiative_power\n",
            "Mean_confidence\n",
            "Std_confidence\n",
            "Var_confidence\n",
            "Count\n",
            "Replaced\n"
          ],
          "name": "stdout"
        }
      ]
    },
    {
      "cell_type": "code",
      "metadata": {
        "colab": {
          "base_uri": "https://localhost:8080/"
        },
        "id": "jPiu9q0E39oT",
        "outputId": "f8f5f726-e86b-423d-b617-8ca9daccb32b"
      },
      "source": [
        "# Checking data types of each columns\n",
        "df.dtypes"
      ],
      "execution_count": 32,
      "outputs": [
        {
          "output_type": "execute_result",
          "data": {
            "text/plain": [
              "Region                                  object\n",
              "Date                                    object\n",
              "Estimated_fire_area                    float64\n",
              "Mean_estimated_fire_brightness         float64\n",
              "Mean_estimated_fire_radiative_power    float64\n",
              "Mean_confidence                        float64\n",
              "Std_confidence                         float64\n",
              "Var_confidence                         float64\n",
              "Count                                    int64\n",
              "Replaced                                object\n",
              "dtype: object"
            ]
          },
          "metadata": {
            "tags": []
          },
          "execution_count": 32
        }
      ]
    },
    {
      "cell_type": "code",
      "metadata": {
        "colab": {
          "base_uri": "https://localhost:8080/"
        },
        "id": "d0Xcaw0k4Hj-",
        "outputId": "73596fc9-bab2-4fc6-caba-768589a05abf"
      },
      "source": [
        "df['Date'] = pd.to_datetime(df['Date'])\n",
        "print(\"Minimum Date: {}\".format(df['Date'].min()))\n",
        "print(\"Maximum Date: {}\".format(df['Date'].max()))"
      ],
      "execution_count": 33,
      "outputs": [
        {
          "output_type": "stream",
          "text": [
            "Minimum Date: 2005-01-01 00:00:00\n",
            "Maximum Date: 2020-10-31 00:00:00\n"
          ],
          "name": "stdout"
        }
      ]
    },
    {
      "cell_type": "code",
      "metadata": {
        "colab": {
          "base_uri": "https://localhost:8080/"
        },
        "id": "Stwfc-Vf4NE-",
        "outputId": "08f498f9-6fcb-4d14-a3f3-5f06a2e6e1a3"
      },
      "source": [
        "df.isna().sum()"
      ],
      "execution_count": 34,
      "outputs": [
        {
          "output_type": "execute_result",
          "data": {
            "text/plain": [
              "Region                                    0\n",
              "Date                                      0\n",
              "Estimated_fire_area                       0\n",
              "Mean_estimated_fire_brightness            0\n",
              "Mean_estimated_fire_radiative_power       0\n",
              "Mean_confidence                           0\n",
              "Std_confidence                         2207\n",
              "Var_confidence                         2207\n",
              "Count                                     0\n",
              "Replaced                                  0\n",
              "dtype: int64"
            ]
          },
          "metadata": {
            "tags": []
          },
          "execution_count": 34
        }
      ]
    },
    {
      "cell_type": "code",
      "metadata": {
        "colab": {
          "base_uri": "https://localhost:8080/",
          "height": 609
        },
        "id": "EhPUlTKj4Qz4",
        "outputId": "b3d4f527-e53b-4627-dd3a-0cde018aa97c"
      },
      "source": [
        "df.loc[df.Std_confidence.isna(), :]"
      ],
      "execution_count": 35,
      "outputs": [
        {
          "output_type": "execute_result",
          "data": {
            "text/html": [
              "<div>\n",
              "<style scoped>\n",
              "    .dataframe tbody tr th:only-of-type {\n",
              "        vertical-align: middle;\n",
              "    }\n",
              "\n",
              "    .dataframe tbody tr th {\n",
              "        vertical-align: top;\n",
              "    }\n",
              "\n",
              "    .dataframe thead th {\n",
              "        text-align: right;\n",
              "    }\n",
              "</style>\n",
              "<table border=\"1\" class=\"dataframe\">\n",
              "  <thead>\n",
              "    <tr style=\"text-align: right;\">\n",
              "      <th></th>\n",
              "      <th>Region</th>\n",
              "      <th>Date</th>\n",
              "      <th>Estimated_fire_area</th>\n",
              "      <th>Mean_estimated_fire_brightness</th>\n",
              "      <th>Mean_estimated_fire_radiative_power</th>\n",
              "      <th>Mean_confidence</th>\n",
              "      <th>Std_confidence</th>\n",
              "      <th>Var_confidence</th>\n",
              "      <th>Count</th>\n",
              "      <th>Replaced</th>\n",
              "    </tr>\n",
              "  </thead>\n",
              "  <tbody>\n",
              "    <tr>\n",
              "      <th>48</th>\n",
              "      <td>NSW</td>\n",
              "      <td>2005-02-26</td>\n",
              "      <td>1.00</td>\n",
              "      <td>303.15</td>\n",
              "      <td>8.0</td>\n",
              "      <td>79.0</td>\n",
              "      <td>NaN</td>\n",
              "      <td>NaN</td>\n",
              "      <td>1</td>\n",
              "      <td>R</td>\n",
              "    </tr>\n",
              "    <tr>\n",
              "      <th>149</th>\n",
              "      <td>NSW</td>\n",
              "      <td>2005-06-12</td>\n",
              "      <td>1.00</td>\n",
              "      <td>302.55</td>\n",
              "      <td>17.9</td>\n",
              "      <td>79.0</td>\n",
              "      <td>NaN</td>\n",
              "      <td>NaN</td>\n",
              "      <td>1</td>\n",
              "      <td>R</td>\n",
              "    </tr>\n",
              "    <tr>\n",
              "      <th>154</th>\n",
              "      <td>NSW</td>\n",
              "      <td>2005-06-18</td>\n",
              "      <td>5.27</td>\n",
              "      <td>301.30</td>\n",
              "      <td>71.9</td>\n",
              "      <td>77.0</td>\n",
              "      <td>NaN</td>\n",
              "      <td>NaN</td>\n",
              "      <td>1</td>\n",
              "      <td>R</td>\n",
              "    </tr>\n",
              "    <tr>\n",
              "      <th>157</th>\n",
              "      <td>NSW</td>\n",
              "      <td>2005-06-25</td>\n",
              "      <td>9.60</td>\n",
              "      <td>300.70</td>\n",
              "      <td>145.9</td>\n",
              "      <td>76.0</td>\n",
              "      <td>NaN</td>\n",
              "      <td>NaN</td>\n",
              "      <td>1</td>\n",
              "      <td>R</td>\n",
              "    </tr>\n",
              "    <tr>\n",
              "      <th>163</th>\n",
              "      <td>NSW</td>\n",
              "      <td>2005-07-09</td>\n",
              "      <td>2.80</td>\n",
              "      <td>294.65</td>\n",
              "      <td>37.8</td>\n",
              "      <td>79.0</td>\n",
              "      <td>NaN</td>\n",
              "      <td>NaN</td>\n",
              "      <td>1</td>\n",
              "      <td>R</td>\n",
              "    </tr>\n",
              "    <tr>\n",
              "      <th>...</th>\n",
              "      <td>...</td>\n",
              "      <td>...</td>\n",
              "      <td>...</td>\n",
              "      <td>...</td>\n",
              "      <td>...</td>\n",
              "      <td>...</td>\n",
              "      <td>...</td>\n",
              "      <td>...</td>\n",
              "      <td>...</td>\n",
              "      <td>...</td>\n",
              "    </tr>\n",
              "    <tr>\n",
              "      <th>26327</th>\n",
              "      <td>WA</td>\n",
              "      <td>2020-08-09</td>\n",
              "      <td>2.34</td>\n",
              "      <td>300.15</td>\n",
              "      <td>30.2</td>\n",
              "      <td>85.0</td>\n",
              "      <td>NaN</td>\n",
              "      <td>NaN</td>\n",
              "      <td>1</td>\n",
              "      <td>N</td>\n",
              "    </tr>\n",
              "    <tr>\n",
              "      <th>26331</th>\n",
              "      <td>WA</td>\n",
              "      <td>2020-08-13</td>\n",
              "      <td>1.10</td>\n",
              "      <td>320.35</td>\n",
              "      <td>27.1</td>\n",
              "      <td>83.0</td>\n",
              "      <td>NaN</td>\n",
              "      <td>NaN</td>\n",
              "      <td>1</td>\n",
              "      <td>N</td>\n",
              "    </tr>\n",
              "    <tr>\n",
              "      <th>26332</th>\n",
              "      <td>WA</td>\n",
              "      <td>2020-08-14</td>\n",
              "      <td>1.00</td>\n",
              "      <td>302.15</td>\n",
              "      <td>15.8</td>\n",
              "      <td>77.0</td>\n",
              "      <td>NaN</td>\n",
              "      <td>NaN</td>\n",
              "      <td>1</td>\n",
              "      <td>N</td>\n",
              "    </tr>\n",
              "    <tr>\n",
              "      <th>26335</th>\n",
              "      <td>WA</td>\n",
              "      <td>2020-08-20</td>\n",
              "      <td>1.92</td>\n",
              "      <td>326.85</td>\n",
              "      <td>86.2</td>\n",
              "      <td>92.0</td>\n",
              "      <td>NaN</td>\n",
              "      <td>NaN</td>\n",
              "      <td>1</td>\n",
              "      <td>N</td>\n",
              "    </tr>\n",
              "    <tr>\n",
              "      <th>26337</th>\n",
              "      <td>WA</td>\n",
              "      <td>2020-08-22</td>\n",
              "      <td>2.47</td>\n",
              "      <td>321.10</td>\n",
              "      <td>43.9</td>\n",
              "      <td>79.0</td>\n",
              "      <td>NaN</td>\n",
              "      <td>NaN</td>\n",
              "      <td>1</td>\n",
              "      <td>N</td>\n",
              "    </tr>\n",
              "  </tbody>\n",
              "</table>\n",
              "<p>2207 rows × 10 columns</p>\n",
              "</div>"
            ],
            "text/plain": [
              "      Region       Date  Estimated_fire_area  ...  Var_confidence  Count  Replaced\n",
              "48       NSW 2005-02-26                 1.00  ...             NaN      1         R\n",
              "149      NSW 2005-06-12                 1.00  ...             NaN      1         R\n",
              "154      NSW 2005-06-18                 5.27  ...             NaN      1         R\n",
              "157      NSW 2005-06-25                 9.60  ...             NaN      1         R\n",
              "163      NSW 2005-07-09                 2.80  ...             NaN      1         R\n",
              "...      ...        ...                  ...  ...             ...    ...       ...\n",
              "26327     WA 2020-08-09                 2.34  ...             NaN      1         N\n",
              "26331     WA 2020-08-13                 1.10  ...             NaN      1         N\n",
              "26332     WA 2020-08-14                 1.00  ...             NaN      1         N\n",
              "26335     WA 2020-08-20                 1.92  ...             NaN      1         N\n",
              "26337     WA 2020-08-22                 2.47  ...             NaN      1         N\n",
              "\n",
              "[2207 rows x 10 columns]"
            ]
          },
          "metadata": {
            "tags": []
          },
          "execution_count": 35
        }
      ]
    },
    {
      "cell_type": "code",
      "metadata": {
        "colab": {
          "base_uri": "https://localhost:8080/",
          "height": 609
        },
        "id": "vCuZD-dp4Wx_",
        "outputId": "4b5b171c-3366-4839-8f87-7ad5fea88782"
      },
      "source": [
        "df.loc[df.Var_confidence.isna(), :]"
      ],
      "execution_count": 36,
      "outputs": [
        {
          "output_type": "execute_result",
          "data": {
            "text/html": [
              "<div>\n",
              "<style scoped>\n",
              "    .dataframe tbody tr th:only-of-type {\n",
              "        vertical-align: middle;\n",
              "    }\n",
              "\n",
              "    .dataframe tbody tr th {\n",
              "        vertical-align: top;\n",
              "    }\n",
              "\n",
              "    .dataframe thead th {\n",
              "        text-align: right;\n",
              "    }\n",
              "</style>\n",
              "<table border=\"1\" class=\"dataframe\">\n",
              "  <thead>\n",
              "    <tr style=\"text-align: right;\">\n",
              "      <th></th>\n",
              "      <th>Region</th>\n",
              "      <th>Date</th>\n",
              "      <th>Estimated_fire_area</th>\n",
              "      <th>Mean_estimated_fire_brightness</th>\n",
              "      <th>Mean_estimated_fire_radiative_power</th>\n",
              "      <th>Mean_confidence</th>\n",
              "      <th>Std_confidence</th>\n",
              "      <th>Var_confidence</th>\n",
              "      <th>Count</th>\n",
              "      <th>Replaced</th>\n",
              "    </tr>\n",
              "  </thead>\n",
              "  <tbody>\n",
              "    <tr>\n",
              "      <th>48</th>\n",
              "      <td>NSW</td>\n",
              "      <td>2005-02-26</td>\n",
              "      <td>1.00</td>\n",
              "      <td>303.15</td>\n",
              "      <td>8.0</td>\n",
              "      <td>79.0</td>\n",
              "      <td>NaN</td>\n",
              "      <td>NaN</td>\n",
              "      <td>1</td>\n",
              "      <td>R</td>\n",
              "    </tr>\n",
              "    <tr>\n",
              "      <th>149</th>\n",
              "      <td>NSW</td>\n",
              "      <td>2005-06-12</td>\n",
              "      <td>1.00</td>\n",
              "      <td>302.55</td>\n",
              "      <td>17.9</td>\n",
              "      <td>79.0</td>\n",
              "      <td>NaN</td>\n",
              "      <td>NaN</td>\n",
              "      <td>1</td>\n",
              "      <td>R</td>\n",
              "    </tr>\n",
              "    <tr>\n",
              "      <th>154</th>\n",
              "      <td>NSW</td>\n",
              "      <td>2005-06-18</td>\n",
              "      <td>5.27</td>\n",
              "      <td>301.30</td>\n",
              "      <td>71.9</td>\n",
              "      <td>77.0</td>\n",
              "      <td>NaN</td>\n",
              "      <td>NaN</td>\n",
              "      <td>1</td>\n",
              "      <td>R</td>\n",
              "    </tr>\n",
              "    <tr>\n",
              "      <th>157</th>\n",
              "      <td>NSW</td>\n",
              "      <td>2005-06-25</td>\n",
              "      <td>9.60</td>\n",
              "      <td>300.70</td>\n",
              "      <td>145.9</td>\n",
              "      <td>76.0</td>\n",
              "      <td>NaN</td>\n",
              "      <td>NaN</td>\n",
              "      <td>1</td>\n",
              "      <td>R</td>\n",
              "    </tr>\n",
              "    <tr>\n",
              "      <th>163</th>\n",
              "      <td>NSW</td>\n",
              "      <td>2005-07-09</td>\n",
              "      <td>2.80</td>\n",
              "      <td>294.65</td>\n",
              "      <td>37.8</td>\n",
              "      <td>79.0</td>\n",
              "      <td>NaN</td>\n",
              "      <td>NaN</td>\n",
              "      <td>1</td>\n",
              "      <td>R</td>\n",
              "    </tr>\n",
              "    <tr>\n",
              "      <th>...</th>\n",
              "      <td>...</td>\n",
              "      <td>...</td>\n",
              "      <td>...</td>\n",
              "      <td>...</td>\n",
              "      <td>...</td>\n",
              "      <td>...</td>\n",
              "      <td>...</td>\n",
              "      <td>...</td>\n",
              "      <td>...</td>\n",
              "      <td>...</td>\n",
              "    </tr>\n",
              "    <tr>\n",
              "      <th>26327</th>\n",
              "      <td>WA</td>\n",
              "      <td>2020-08-09</td>\n",
              "      <td>2.34</td>\n",
              "      <td>300.15</td>\n",
              "      <td>30.2</td>\n",
              "      <td>85.0</td>\n",
              "      <td>NaN</td>\n",
              "      <td>NaN</td>\n",
              "      <td>1</td>\n",
              "      <td>N</td>\n",
              "    </tr>\n",
              "    <tr>\n",
              "      <th>26331</th>\n",
              "      <td>WA</td>\n",
              "      <td>2020-08-13</td>\n",
              "      <td>1.10</td>\n",
              "      <td>320.35</td>\n",
              "      <td>27.1</td>\n",
              "      <td>83.0</td>\n",
              "      <td>NaN</td>\n",
              "      <td>NaN</td>\n",
              "      <td>1</td>\n",
              "      <td>N</td>\n",
              "    </tr>\n",
              "    <tr>\n",
              "      <th>26332</th>\n",
              "      <td>WA</td>\n",
              "      <td>2020-08-14</td>\n",
              "      <td>1.00</td>\n",
              "      <td>302.15</td>\n",
              "      <td>15.8</td>\n",
              "      <td>77.0</td>\n",
              "      <td>NaN</td>\n",
              "      <td>NaN</td>\n",
              "      <td>1</td>\n",
              "      <td>N</td>\n",
              "    </tr>\n",
              "    <tr>\n",
              "      <th>26335</th>\n",
              "      <td>WA</td>\n",
              "      <td>2020-08-20</td>\n",
              "      <td>1.92</td>\n",
              "      <td>326.85</td>\n",
              "      <td>86.2</td>\n",
              "      <td>92.0</td>\n",
              "      <td>NaN</td>\n",
              "      <td>NaN</td>\n",
              "      <td>1</td>\n",
              "      <td>N</td>\n",
              "    </tr>\n",
              "    <tr>\n",
              "      <th>26337</th>\n",
              "      <td>WA</td>\n",
              "      <td>2020-08-22</td>\n",
              "      <td>2.47</td>\n",
              "      <td>321.10</td>\n",
              "      <td>43.9</td>\n",
              "      <td>79.0</td>\n",
              "      <td>NaN</td>\n",
              "      <td>NaN</td>\n",
              "      <td>1</td>\n",
              "      <td>N</td>\n",
              "    </tr>\n",
              "  </tbody>\n",
              "</table>\n",
              "<p>2207 rows × 10 columns</p>\n",
              "</div>"
            ],
            "text/plain": [
              "      Region       Date  Estimated_fire_area  ...  Var_confidence  Count  Replaced\n",
              "48       NSW 2005-02-26                 1.00  ...             NaN      1         R\n",
              "149      NSW 2005-06-12                 1.00  ...             NaN      1         R\n",
              "154      NSW 2005-06-18                 5.27  ...             NaN      1         R\n",
              "157      NSW 2005-06-25                 9.60  ...             NaN      1         R\n",
              "163      NSW 2005-07-09                 2.80  ...             NaN      1         R\n",
              "...      ...        ...                  ...  ...             ...    ...       ...\n",
              "26327     WA 2020-08-09                 2.34  ...             NaN      1         N\n",
              "26331     WA 2020-08-13                 1.10  ...             NaN      1         N\n",
              "26332     WA 2020-08-14                 1.00  ...             NaN      1         N\n",
              "26335     WA 2020-08-20                 1.92  ...             NaN      1         N\n",
              "26337     WA 2020-08-22                 2.47  ...             NaN      1         N\n",
              "\n",
              "[2207 rows x 10 columns]"
            ]
          },
          "metadata": {
            "tags": []
          },
          "execution_count": 36
        }
      ]
    },
    {
      "cell_type": "code",
      "metadata": {
        "colab": {
          "base_uri": "https://localhost:8080/",
          "height": 80
        },
        "id": "ZBniDzIm4xbJ",
        "outputId": "9a4a6ecc-fe8f-4c8e-8505-60b7df001758"
      },
      "source": [
        "df.loc[(df['Std_confidence'].isna()) & (df['Var_confidence'].isna()), ['Count']].drop_duplicates().reset_index(drop=True)"
      ],
      "execution_count": 37,
      "outputs": [
        {
          "output_type": "execute_result",
          "data": {
            "text/html": [
              "<div>\n",
              "<style scoped>\n",
              "    .dataframe tbody tr th:only-of-type {\n",
              "        vertical-align: middle;\n",
              "    }\n",
              "\n",
              "    .dataframe tbody tr th {\n",
              "        vertical-align: top;\n",
              "    }\n",
              "\n",
              "    .dataframe thead th {\n",
              "        text-align: right;\n",
              "    }\n",
              "</style>\n",
              "<table border=\"1\" class=\"dataframe\">\n",
              "  <thead>\n",
              "    <tr style=\"text-align: right;\">\n",
              "      <th></th>\n",
              "      <th>Count</th>\n",
              "    </tr>\n",
              "  </thead>\n",
              "  <tbody>\n",
              "    <tr>\n",
              "      <th>0</th>\n",
              "      <td>1</td>\n",
              "    </tr>\n",
              "  </tbody>\n",
              "</table>\n",
              "</div>"
            ],
            "text/plain": [
              "   Count\n",
              "0      1"
            ]
          },
          "metadata": {
            "tags": []
          },
          "execution_count": 37
        }
      ]
    },
    {
      "cell_type": "code",
      "metadata": {
        "colab": {
          "base_uri": "https://localhost:8080/"
        },
        "id": "vvifPMR344qk",
        "outputId": "9e6e9256-d979-4194-d14b-bec83815f29f"
      },
      "source": [
        "# distinct \"Count\" column values when Std_confidence and Var_confidence are NULL.\n",
        "print(\"Distinct 'Count' column values when Std_confidence and Var_confidence are NULL.\\n\")\n",
        "Count_values = df.loc[(df['Std_confidence'].isna()) & (df['Var_confidence'].isna()), 'Count'].values\n",
        "print(\"'Count' Column Values: {}\".format(Count_values))\n",
        "\n",
        "import numpy as np\n",
        "print(\"'Count' Column Unique Values: {}\".format(np.unique(Count_values)))"
      ],
      "execution_count": 38,
      "outputs": [
        {
          "output_type": "stream",
          "text": [
            "Distinct 'Count' column values when Std_confidence and Var_confidence are NULL.\n",
            "\n",
            "'Count' Column Values: [1 1 1 ... 1 1 1]\n",
            "'Count' Column Unique Values: [1]\n"
          ],
          "name": "stdout"
        }
      ]
    },
    {
      "cell_type": "code",
      "metadata": {
        "id": "9wPuiP-pHH92"
      },
      "source": [
        "df.loc[df['Std_confidence'].isna(), 'Std_confidence'] = 0\n",
        "df.loc[df['Var_confidence'].isna(), 'Var_confidence'] = 0"
      ],
      "execution_count": 39,
      "outputs": []
    },
    {
      "cell_type": "code",
      "metadata": {
        "colab": {
          "base_uri": "https://localhost:8080/"
        },
        "id": "29C2DqaXHX6n",
        "outputId": "6459fd32-5c4a-4326-cc8f-543d57fe30fb"
      },
      "source": [
        "region = df['Region'].unique()\n",
        "num_regions = region.shape[0]\n",
        "all_regions = \"\\n\".join(region.tolist())\n",
        "print(\"Following are {} unique regions for Historical Wildfires:\\n\\n{}\".format(num_regions, all_regions))"
      ],
      "execution_count": 41,
      "outputs": [
        {
          "output_type": "stream",
          "text": [
            "Following are 7 unique regions for Historical Wildfires:\n",
            "\n",
            "NSW\n",
            "NT\n",
            "QL\n",
            "SA\n",
            "TA\n",
            "VI\n",
            "WA\n"
          ],
          "name": "stdout"
        }
      ]
    },
    {
      "cell_type": "code",
      "metadata": {
        "id": "i1f0NK2YHiXJ"
      },
      "source": [
        "# Remove Duplicates\n",
        "df.drop_duplicates(inplace=True)\n",
        "\n",
        "# Reset dataframe index\n",
        "df.reset_index(drop=True, inplace=True)"
      ],
      "execution_count": 42,
      "outputs": []
    },
    {
      "cell_type": "code",
      "metadata": {
        "colab": {
          "base_uri": "https://localhost:8080/"
        },
        "id": "zh-DLAijHmyP",
        "outputId": "517185f6-c147-4154-9c7f-00a5026dd5e7"
      },
      "source": [
        "# Number of records\n",
        "num_rows, num_cols = df.shape\n",
        "print(\"Total Records:\\t{}\".format(num_rows))"
      ],
      "execution_count": 43,
      "outputs": [
        {
          "output_type": "stream",
          "text": [
            "Total Records:\t26406\n"
          ],
          "name": "stdout"
        }
      ]
    },
    {
      "cell_type": "code",
      "metadata": {
        "colab": {
          "base_uri": "https://localhost:8080/",
          "height": 326
        },
        "id": "hrt63r29HqDA",
        "outputId": "8fea07cd-9433-4d47-d853-43ae18f347fe"
      },
      "source": [
        "# First five rows in data\n",
        "print('First five rows of the Dataset')\n",
        "df.head()"
      ],
      "execution_count": 44,
      "outputs": [
        {
          "output_type": "stream",
          "text": [
            "First five rows of the Dataset\n"
          ],
          "name": "stdout"
        },
        {
          "output_type": "execute_result",
          "data": {
            "text/html": [
              "<div>\n",
              "<style scoped>\n",
              "    .dataframe tbody tr th:only-of-type {\n",
              "        vertical-align: middle;\n",
              "    }\n",
              "\n",
              "    .dataframe tbody tr th {\n",
              "        vertical-align: top;\n",
              "    }\n",
              "\n",
              "    .dataframe thead th {\n",
              "        text-align: right;\n",
              "    }\n",
              "</style>\n",
              "<table border=\"1\" class=\"dataframe\">\n",
              "  <thead>\n",
              "    <tr style=\"text-align: right;\">\n",
              "      <th></th>\n",
              "      <th>Region</th>\n",
              "      <th>Date</th>\n",
              "      <th>Estimated_fire_area</th>\n",
              "      <th>Mean_estimated_fire_brightness</th>\n",
              "      <th>Mean_estimated_fire_radiative_power</th>\n",
              "      <th>Mean_confidence</th>\n",
              "      <th>Std_confidence</th>\n",
              "      <th>Var_confidence</th>\n",
              "      <th>Count</th>\n",
              "      <th>Replaced</th>\n",
              "    </tr>\n",
              "  </thead>\n",
              "  <tbody>\n",
              "    <tr>\n",
              "      <th>0</th>\n",
              "      <td>NSW</td>\n",
              "      <td>2005-01-04</td>\n",
              "      <td>8.68000</td>\n",
              "      <td>312.266667</td>\n",
              "      <td>42.400000</td>\n",
              "      <td>78.666667</td>\n",
              "      <td>2.886751</td>\n",
              "      <td>8.333333</td>\n",
              "      <td>3</td>\n",
              "      <td>R</td>\n",
              "    </tr>\n",
              "    <tr>\n",
              "      <th>1</th>\n",
              "      <td>NSW</td>\n",
              "      <td>2005-01-05</td>\n",
              "      <td>16.61125</td>\n",
              "      <td>322.475000</td>\n",
              "      <td>62.362500</td>\n",
              "      <td>85.500000</td>\n",
              "      <td>8.088793</td>\n",
              "      <td>65.428571</td>\n",
              "      <td>8</td>\n",
              "      <td>R</td>\n",
              "    </tr>\n",
              "    <tr>\n",
              "      <th>2</th>\n",
              "      <td>NSW</td>\n",
              "      <td>2005-01-06</td>\n",
              "      <td>5.52000</td>\n",
              "      <td>325.266667</td>\n",
              "      <td>38.400000</td>\n",
              "      <td>78.333333</td>\n",
              "      <td>3.214550</td>\n",
              "      <td>10.333333</td>\n",
              "      <td>3</td>\n",
              "      <td>R</td>\n",
              "    </tr>\n",
              "    <tr>\n",
              "      <th>3</th>\n",
              "      <td>NSW</td>\n",
              "      <td>2005-01-07</td>\n",
              "      <td>6.26400</td>\n",
              "      <td>313.870000</td>\n",
              "      <td>33.800000</td>\n",
              "      <td>92.200000</td>\n",
              "      <td>7.529940</td>\n",
              "      <td>56.700000</td>\n",
              "      <td>5</td>\n",
              "      <td>R</td>\n",
              "    </tr>\n",
              "    <tr>\n",
              "      <th>4</th>\n",
              "      <td>NSW</td>\n",
              "      <td>2005-01-08</td>\n",
              "      <td>5.40000</td>\n",
              "      <td>337.383333</td>\n",
              "      <td>122.533333</td>\n",
              "      <td>91.000000</td>\n",
              "      <td>7.937254</td>\n",
              "      <td>63.000000</td>\n",
              "      <td>3</td>\n",
              "      <td>R</td>\n",
              "    </tr>\n",
              "  </tbody>\n",
              "</table>\n",
              "</div>"
            ],
            "text/plain": [
              "  Region       Date  Estimated_fire_area  ...  Var_confidence  Count  Replaced\n",
              "0    NSW 2005-01-04              8.68000  ...        8.333333      3         R\n",
              "1    NSW 2005-01-05             16.61125  ...       65.428571      8         R\n",
              "2    NSW 2005-01-06              5.52000  ...       10.333333      3         R\n",
              "3    NSW 2005-01-07              6.26400  ...       56.700000      5         R\n",
              "4    NSW 2005-01-08              5.40000  ...       63.000000      3         R\n",
              "\n",
              "[5 rows x 10 columns]"
            ]
          },
          "metadata": {
            "tags": []
          },
          "execution_count": 44
        }
      ]
    },
    {
      "cell_type": "code",
      "metadata": {
        "colab": {
          "base_uri": "https://localhost:8080/",
          "height": 326
        },
        "id": "i2TJtVmsHy60",
        "outputId": "2c08ca5f-ad18-4baa-c7bc-dc99162ea947"
      },
      "source": [
        "# Last five rows in data\n",
        "print('Last five rows of the Dataset')\n",
        "df.tail()"
      ],
      "execution_count": 45,
      "outputs": [
        {
          "output_type": "stream",
          "text": [
            "Last five rows of the Dataset\n"
          ],
          "name": "stdout"
        },
        {
          "output_type": "execute_result",
          "data": {
            "text/html": [
              "<div>\n",
              "<style scoped>\n",
              "    .dataframe tbody tr th:only-of-type {\n",
              "        vertical-align: middle;\n",
              "    }\n",
              "\n",
              "    .dataframe tbody tr th {\n",
              "        vertical-align: top;\n",
              "    }\n",
              "\n",
              "    .dataframe thead th {\n",
              "        text-align: right;\n",
              "    }\n",
              "</style>\n",
              "<table border=\"1\" class=\"dataframe\">\n",
              "  <thead>\n",
              "    <tr style=\"text-align: right;\">\n",
              "      <th></th>\n",
              "      <th>Region</th>\n",
              "      <th>Date</th>\n",
              "      <th>Estimated_fire_area</th>\n",
              "      <th>Mean_estimated_fire_brightness</th>\n",
              "      <th>Mean_estimated_fire_radiative_power</th>\n",
              "      <th>Mean_confidence</th>\n",
              "      <th>Std_confidence</th>\n",
              "      <th>Var_confidence</th>\n",
              "      <th>Count</th>\n",
              "      <th>Replaced</th>\n",
              "    </tr>\n",
              "  </thead>\n",
              "  <tbody>\n",
              "    <tr>\n",
              "      <th>26401</th>\n",
              "      <td>WA</td>\n",
              "      <td>2020-10-27</td>\n",
              "      <td>32.970000</td>\n",
              "      <td>324.068182</td>\n",
              "      <td>103.318182</td>\n",
              "      <td>84.363636</td>\n",
              "      <td>5.277741</td>\n",
              "      <td>27.854545</td>\n",
              "      <td>11</td>\n",
              "      <td>N</td>\n",
              "    </tr>\n",
              "    <tr>\n",
              "      <th>26402</th>\n",
              "      <td>WA</td>\n",
              "      <td>2020-10-28</td>\n",
              "      <td>20.840625</td>\n",
              "      <td>314.425000</td>\n",
              "      <td>37.256250</td>\n",
              "      <td>88.312500</td>\n",
              "      <td>8.121730</td>\n",
              "      <td>65.962500</td>\n",
              "      <td>16</td>\n",
              "      <td>N</td>\n",
              "    </tr>\n",
              "    <tr>\n",
              "      <th>26403</th>\n",
              "      <td>WA</td>\n",
              "      <td>2020-10-29</td>\n",
              "      <td>136.083077</td>\n",
              "      <td>323.588461</td>\n",
              "      <td>294.102564</td>\n",
              "      <td>92.974359</td>\n",
              "      <td>8.282789</td>\n",
              "      <td>68.604588</td>\n",
              "      <td>39</td>\n",
              "      <td>N</td>\n",
              "    </tr>\n",
              "    <tr>\n",
              "      <th>26404</th>\n",
              "      <td>WA</td>\n",
              "      <td>2020-10-30</td>\n",
              "      <td>42.397895</td>\n",
              "      <td>324.205263</td>\n",
              "      <td>54.994737</td>\n",
              "      <td>89.631579</td>\n",
              "      <td>8.461107</td>\n",
              "      <td>71.590327</td>\n",
              "      <td>38</td>\n",
              "      <td>N</td>\n",
              "    </tr>\n",
              "    <tr>\n",
              "      <th>26405</th>\n",
              "      <td>WA</td>\n",
              "      <td>2020-10-31</td>\n",
              "      <td>107.370851</td>\n",
              "      <td>330.057447</td>\n",
              "      <td>201.625532</td>\n",
              "      <td>92.978723</td>\n",
              "      <td>7.266628</td>\n",
              "      <td>52.803885</td>\n",
              "      <td>47</td>\n",
              "      <td>N</td>\n",
              "    </tr>\n",
              "  </tbody>\n",
              "</table>\n",
              "</div>"
            ],
            "text/plain": [
              "      Region       Date  Estimated_fire_area  ...  Var_confidence  Count  Replaced\n",
              "26401     WA 2020-10-27            32.970000  ...       27.854545     11         N\n",
              "26402     WA 2020-10-28            20.840625  ...       65.962500     16         N\n",
              "26403     WA 2020-10-29           136.083077  ...       68.604588     39         N\n",
              "26404     WA 2020-10-30            42.397895  ...       71.590327     38         N\n",
              "26405     WA 2020-10-31           107.370851  ...       52.803885     47         N\n",
              "\n",
              "[5 rows x 10 columns]"
            ]
          },
          "metadata": {
            "tags": []
          },
          "execution_count": 45
        }
      ]
    }
  ]
}