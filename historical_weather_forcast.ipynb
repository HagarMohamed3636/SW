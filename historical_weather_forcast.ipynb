{
  "nbformat": 4,
  "nbformat_minor": 0,
  "metadata": {
    "colab": {
      "name": "historical weather forcast.ipynb",
      "provenance": []
    },
    "kernelspec": {
      "name": "python3",
      "display_name": "Python 3"
    },
    "language_info": {
      "name": "python"
    }
  },
  "cells": [
    {
      "cell_type": "code",
      "metadata": {
        "colab": {
          "base_uri": "https://localhost:8080/"
        },
        "id": "tVzFlv8pgs0_",
        "outputId": "4e680032-e7bf-4fbc-9451-c7dcd36fe217"
      },
      "source": [
        "!pip install wget\n",
        "import wget\n",
        "import zipfile\n",
        "wget.download('https://raw.githubusercontent.com/Call-for-Code/Spot-Challenge-Wildfires/main/data/Nov_10.zip', 'Nov_10.zip')\n",
        "zip_handle = zipfile.ZipFile(\"Nov_10.zip\")\n",
        "zip_handle.extractall()\n",
        "import pandas as pd\n",
        "import numpy as np"
      ],
      "execution_count": 1,
      "outputs": [
        {
          "output_type": "stream",
          "text": [
            "Collecting wget\n",
            "  Downloading https://files.pythonhosted.org/packages/47/6a/62e288da7bcda82b935ff0c6cfe542970f04e29c756b0e147251b2fb251f/wget-3.2.zip\n",
            "Building wheels for collected packages: wget\n",
            "  Building wheel for wget (setup.py) ... \u001b[?25l\u001b[?25hdone\n",
            "  Created wheel for wget: filename=wget-3.2-cp37-none-any.whl size=9681 sha256=3efcde8e29aa15faac3ce9448046613970a2924c648ca0886a582b4cd645ba5a\n",
            "  Stored in directory: /root/.cache/pip/wheels/40/15/30/7d8f7cea2902b4db79e3fea550d7d7b85ecb27ef992b618f3f\n",
            "Successfully built wget\n",
            "Installing collected packages: wget\n",
            "Successfully installed wget-3.2\n"
          ],
          "name": "stdout"
        }
      ]
    },
    {
      "cell_type": "code",
      "metadata": {
        "colab": {
          "base_uri": "https://localhost:8080/",
          "height": 377
        },
        "id": "zCEPVq_BhFvP",
        "outputId": "8d6a3e39-dccb-428c-d10e-25272f461f5d"
      },
      "source": [
        "\n",
        "file_weather_forcasts = \"/content/Nov_10/HistoricalWeatherForecasts.csv\"\n",
        "print(\"Reading file: '{}'\".format(file_weather_forcasts))\n",
        "df_forcasts = pd.read_csv(file_weather_forcasts)\n",
        "print(\"Loaded...\")\n",
        "\n",
        "# First Five rows\n",
        "df_forcasts.head()"
      ],
      "execution_count": 3,
      "outputs": [
        {
          "output_type": "stream",
          "text": [
            "Reading file: '/content/Nov_10/HistoricalWeatherForecasts.csv'\n",
            "Loaded...\n"
          ],
          "name": "stdout"
        },
        {
          "output_type": "execute_result",
          "data": {
            "text/html": [
              "<div>\n",
              "<style scoped>\n",
              "    .dataframe tbody tr th:only-of-type {\n",
              "        vertical-align: middle;\n",
              "    }\n",
              "\n",
              "    .dataframe tbody tr th {\n",
              "        vertical-align: top;\n",
              "    }\n",
              "\n",
              "    .dataframe thead th {\n",
              "        text-align: right;\n",
              "    }\n",
              "</style>\n",
              "<table border=\"1\" class=\"dataframe\">\n",
              "  <thead>\n",
              "    <tr style=\"text-align: right;\">\n",
              "      <th></th>\n",
              "      <th>Date</th>\n",
              "      <th>Region</th>\n",
              "      <th>Parameter</th>\n",
              "      <th>Lead time</th>\n",
              "      <th>count()[unit: km^2]</th>\n",
              "      <th>min()</th>\n",
              "      <th>max()</th>\n",
              "      <th>mean()</th>\n",
              "      <th>variance()</th>\n",
              "    </tr>\n",
              "  </thead>\n",
              "  <tbody>\n",
              "    <tr>\n",
              "      <th>0</th>\n",
              "      <td>2014-01-01</td>\n",
              "      <td>NSW</td>\n",
              "      <td>RelativeHumidity</td>\n",
              "      <td>5</td>\n",
              "      <td>8.037682e+05</td>\n",
              "      <td>7.482927</td>\n",
              "      <td>85.021118</td>\n",
              "      <td>28.223569</td>\n",
              "      <td>353.620815</td>\n",
              "    </tr>\n",
              "    <tr>\n",
              "      <th>1</th>\n",
              "      <td>2014-01-01</td>\n",
              "      <td>NSW</td>\n",
              "      <td>SolarRadiation</td>\n",
              "      <td>5</td>\n",
              "      <td>8.037682e+05</td>\n",
              "      <td>24.865765</td>\n",
              "      <td>33.557598</td>\n",
              "      <td>31.647308</td>\n",
              "      <td>2.276068</td>\n",
              "    </tr>\n",
              "    <tr>\n",
              "      <th>2</th>\n",
              "      <td>2014-01-01</td>\n",
              "      <td>NSW</td>\n",
              "      <td>Temperature</td>\n",
              "      <td>5</td>\n",
              "      <td>8.037682e+05</td>\n",
              "      <td>21.243755</td>\n",
              "      <td>36.929035</td>\n",
              "      <td>30.893523</td>\n",
              "      <td>17.918553</td>\n",
              "    </tr>\n",
              "    <tr>\n",
              "      <th>3</th>\n",
              "      <td>2014-01-01</td>\n",
              "      <td>NSW</td>\n",
              "      <td>WindSpeed</td>\n",
              "      <td>5</td>\n",
              "      <td>8.037682e+05</td>\n",
              "      <td>1.593531</td>\n",
              "      <td>6.989559</td>\n",
              "      <td>3.958822</td>\n",
              "      <td>1.334834</td>\n",
              "    </tr>\n",
              "    <tr>\n",
              "      <th>4</th>\n",
              "      <td>2014-01-01</td>\n",
              "      <td>NT</td>\n",
              "      <td>RelativeHumidity</td>\n",
              "      <td>5</td>\n",
              "      <td>1.349817e+06</td>\n",
              "      <td>14.796251</td>\n",
              "      <td>73.601479</td>\n",
              "      <td>39.799856</td>\n",
              "      <td>189.805002</td>\n",
              "    </tr>\n",
              "  </tbody>\n",
              "</table>\n",
              "</div>"
            ],
            "text/plain": [
              "         Date Region         Parameter  ...      max()     mean()  variance()\n",
              "0  2014-01-01    NSW  RelativeHumidity  ...  85.021118  28.223569  353.620815\n",
              "1  2014-01-01    NSW    SolarRadiation  ...  33.557598  31.647308    2.276068\n",
              "2  2014-01-01    NSW       Temperature  ...  36.929035  30.893523   17.918553\n",
              "3  2014-01-01    NSW         WindSpeed  ...   6.989559   3.958822    1.334834\n",
              "4  2014-01-01     NT  RelativeHumidity  ...  73.601479  39.799856  189.805002\n",
              "\n",
              "[5 rows x 9 columns]"
            ]
          },
          "metadata": {
            "tags": []
          },
          "execution_count": 3
        }
      ]
    },
    {
      "cell_type": "code",
      "metadata": {
        "colab": {
          "base_uri": "https://localhost:8080/"
        },
        "id": "5aP_tK6lhPnA",
        "outputId": "9377e0b6-2a14-451b-eac0-186948956bca"
      },
      "source": [
        "# Checking data types of each columns\n",
        "df_forcasts.dtypes"
      ],
      "execution_count": 4,
      "outputs": [
        {
          "output_type": "execute_result",
          "data": {
            "text/plain": [
              "Date                    object\n",
              "Region                  object\n",
              "Parameter               object\n",
              "Lead time                int64\n",
              "count()[unit: km^2]    float64\n",
              "min()                  float64\n",
              "max()                  float64\n",
              "mean()                 float64\n",
              "variance()             float64\n",
              "dtype: object"
            ]
          },
          "metadata": {
            "tags": []
          },
          "execution_count": 4
        }
      ]
    },
    {
      "cell_type": "code",
      "metadata": {
        "colab": {
          "base_uri": "https://localhost:8080/",
          "height": 377
        },
        "id": "qHTRxR98hV1C",
        "outputId": "404532c4-7540-4fe5-cd13-9d572bb44612"
      },
      "source": [
        "# Converting \"Date\" column to date type\n",
        "df_forcasts['Date'] = pd.to_datetime(df_forcasts['Date'])\n",
        "print(\"Minimum Date: {}\".format(df_forcasts['Date'].min()))\n",
        "print(\"Maximum Date: {}\".format(df_forcasts['Date'].max()))\n",
        "df_forcasts.head()"
      ],
      "execution_count": 5,
      "outputs": [
        {
          "output_type": "stream",
          "text": [
            "Minimum Date: 2014-01-01 00:00:00\n",
            "Maximum Date: 2020-10-31 00:00:00\n"
          ],
          "name": "stdout"
        },
        {
          "output_type": "execute_result",
          "data": {
            "text/html": [
              "<div>\n",
              "<style scoped>\n",
              "    .dataframe tbody tr th:only-of-type {\n",
              "        vertical-align: middle;\n",
              "    }\n",
              "\n",
              "    .dataframe tbody tr th {\n",
              "        vertical-align: top;\n",
              "    }\n",
              "\n",
              "    .dataframe thead th {\n",
              "        text-align: right;\n",
              "    }\n",
              "</style>\n",
              "<table border=\"1\" class=\"dataframe\">\n",
              "  <thead>\n",
              "    <tr style=\"text-align: right;\">\n",
              "      <th></th>\n",
              "      <th>Date</th>\n",
              "      <th>Region</th>\n",
              "      <th>Parameter</th>\n",
              "      <th>Lead time</th>\n",
              "      <th>count()[unit: km^2]</th>\n",
              "      <th>min()</th>\n",
              "      <th>max()</th>\n",
              "      <th>mean()</th>\n",
              "      <th>variance()</th>\n",
              "    </tr>\n",
              "  </thead>\n",
              "  <tbody>\n",
              "    <tr>\n",
              "      <th>0</th>\n",
              "      <td>2014-01-01</td>\n",
              "      <td>NSW</td>\n",
              "      <td>RelativeHumidity</td>\n",
              "      <td>5</td>\n",
              "      <td>8.037682e+05</td>\n",
              "      <td>7.482927</td>\n",
              "      <td>85.021118</td>\n",
              "      <td>28.223569</td>\n",
              "      <td>353.620815</td>\n",
              "    </tr>\n",
              "    <tr>\n",
              "      <th>1</th>\n",
              "      <td>2014-01-01</td>\n",
              "      <td>NSW</td>\n",
              "      <td>SolarRadiation</td>\n",
              "      <td>5</td>\n",
              "      <td>8.037682e+05</td>\n",
              "      <td>24.865765</td>\n",
              "      <td>33.557598</td>\n",
              "      <td>31.647308</td>\n",
              "      <td>2.276068</td>\n",
              "    </tr>\n",
              "    <tr>\n",
              "      <th>2</th>\n",
              "      <td>2014-01-01</td>\n",
              "      <td>NSW</td>\n",
              "      <td>Temperature</td>\n",
              "      <td>5</td>\n",
              "      <td>8.037682e+05</td>\n",
              "      <td>21.243755</td>\n",
              "      <td>36.929035</td>\n",
              "      <td>30.893523</td>\n",
              "      <td>17.918553</td>\n",
              "    </tr>\n",
              "    <tr>\n",
              "      <th>3</th>\n",
              "      <td>2014-01-01</td>\n",
              "      <td>NSW</td>\n",
              "      <td>WindSpeed</td>\n",
              "      <td>5</td>\n",
              "      <td>8.037682e+05</td>\n",
              "      <td>1.593531</td>\n",
              "      <td>6.989559</td>\n",
              "      <td>3.958822</td>\n",
              "      <td>1.334834</td>\n",
              "    </tr>\n",
              "    <tr>\n",
              "      <th>4</th>\n",
              "      <td>2014-01-01</td>\n",
              "      <td>NT</td>\n",
              "      <td>RelativeHumidity</td>\n",
              "      <td>5</td>\n",
              "      <td>1.349817e+06</td>\n",
              "      <td>14.796251</td>\n",
              "      <td>73.601479</td>\n",
              "      <td>39.799856</td>\n",
              "      <td>189.805002</td>\n",
              "    </tr>\n",
              "  </tbody>\n",
              "</table>\n",
              "</div>"
            ],
            "text/plain": [
              "        Date Region         Parameter  ...      max()     mean()  variance()\n",
              "0 2014-01-01    NSW  RelativeHumidity  ...  85.021118  28.223569  353.620815\n",
              "1 2014-01-01    NSW    SolarRadiation  ...  33.557598  31.647308    2.276068\n",
              "2 2014-01-01    NSW       Temperature  ...  36.929035  30.893523   17.918553\n",
              "3 2014-01-01    NSW         WindSpeed  ...   6.989559   3.958822    1.334834\n",
              "4 2014-01-01     NT  RelativeHumidity  ...  73.601479  39.799856  189.805002\n",
              "\n",
              "[5 rows x 9 columns]"
            ]
          },
          "metadata": {
            "tags": []
          },
          "execution_count": 5
        }
      ]
    },
    {
      "cell_type": "code",
      "metadata": {
        "colab": {
          "base_uri": "https://localhost:8080/"
        },
        "id": "Z4n35EBKhldm",
        "outputId": "358081bd-bf50-4d9a-e5e1-dcbfe2998fe2"
      },
      "source": [
        "\n",
        "num_rows, num_cols = df_forcasts.shape\n",
        "print(\"There are total {} records in the following {} columns:\\n\".format(num_rows, num_cols))\n",
        "print(\"\\n\".join(list(df_forcasts.columns)))\n"
      ],
      "execution_count": 12,
      "outputs": [
        {
          "output_type": "stream",
          "text": [
            "There are total 217212 records in the following 9 columns:\n",
            "\n",
            "Date\n",
            "Region\n",
            "Parameter\n",
            "Lead time\n",
            "area\n",
            "min_forcast\n",
            "max_forcast\n",
            "mean_forcast\n",
            "2nd_moment_forcast\n"
          ],
          "name": "stdout"
        }
      ]
    },
    {
      "cell_type": "code",
      "metadata": {
        "colab": {
          "base_uri": "https://localhost:8080/"
        },
        "id": "R-jnlkxljtu8",
        "outputId": "7d87a350-dcfb-46d1-c084-cc8c935cc064"
      },
      "source": [
        "# Let rename columns names\n",
        "df_forcasts.columns = ['Date', 'Region', 'Parameter', 'Lead time', 'area', 'min_forcast', 'max_forcast', 'mean_forcast', '2nd_moment_forcast']\n",
        "df_forcasts.head()\n",
        "df_forcasts.isna().sum()"
      ],
      "execution_count": 13,
      "outputs": [
        {
          "output_type": "execute_result",
          "data": {
            "text/plain": [
              "Date                  0\n",
              "Region                0\n",
              "Parameter             0\n",
              "Lead time             0\n",
              "area                  0\n",
              "min_forcast           0\n",
              "max_forcast           0\n",
              "mean_forcast          0\n",
              "2nd_moment_forcast    0\n",
              "dtype: int64"
            ]
          },
          "metadata": {
            "tags": []
          },
          "execution_count": 13
        }
      ]
    },
    {
      "cell_type": "code",
      "metadata": {
        "colab": {
          "base_uri": "https://localhost:8080/"
        },
        "id": "xLQjdTmrhuhj",
        "outputId": "e81f4ba9-bf34-4795-9498-f6e56a16edd9"
      },
      "source": [
        "region = df_forcasts['Region'].unique()\n",
        "num_regions = region.shape[0]\n",
        "all_regions = \"\\n\".join(region.tolist())\n",
        "print(\"Following are {} unique regions in Historical Weather Forcasts data:\\n\\n{}\".format(num_regions, all_regions))"
      ],
      "execution_count": 7,
      "outputs": [
        {
          "output_type": "stream",
          "text": [
            "Following are 7 unique regions in Historical Weather Forcasts data:\n",
            "\n",
            "NSW\n",
            "NT\n",
            "QL\n",
            "SA\n",
            "TA\n",
            "VI\n",
            "WA\n"
          ],
          "name": "stdout"
        }
      ]
    }
  ]
}