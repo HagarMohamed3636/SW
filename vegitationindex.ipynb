{
  "nbformat": 4,
  "nbformat_minor": 0,
  "metadata": {
    "colab": {
      "name": "vegitationindex.ipynb",
      "provenance": []
    },
    "kernelspec": {
      "name": "python3",
      "display_name": "Python 3"
    },
    "language_info": {
      "name": "python"
    }
  },
  "cells": [
    {
      "cell_type": "code",
      "metadata": {
        "colab": {
          "base_uri": "https://localhost:8080/"
        },
        "id": "5m23MiOzefmw",
        "outputId": "3d1da60b-6bc4-401b-ddd0-5de41a917baa"
      },
      "source": [
        "!pip install wget\n",
        "import wget\n",
        "import zipfile\n",
        "wget.download('https://raw.githubusercontent.com/Call-for-Code/Spot-Challenge-Wildfires/main/data/Nov_10.zip', 'Nov_10.zip')\n",
        "zip_handle = zipfile.ZipFile(\"Nov_10.zip\")\n",
        "zip_handle.extractall()\n",
        "import pandas as pd\n",
        "import numpy as np\n"
      ],
      "execution_count": 3,
      "outputs": [
        {
          "output_type": "stream",
          "text": [
            "Requirement already satisfied: wget in /usr/local/lib/python3.7/dist-packages (3.2)\n"
          ],
          "name": "stdout"
        }
      ]
    },
    {
      "cell_type": "code",
      "metadata": {
        "colab": {
          "base_uri": "https://localhost:8080/",
          "height": 241
        },
        "id": "R9ZP0DWrfMU6",
        "outputId": "2b41d53e-14c4-4f7d-c504-e7925688da9c"
      },
      "source": [
        "file_vegetation = \"/content/Nov_10/VegetationIndex.csv\"\n",
        "\n",
        "df_vegetarian = pd.read_csv(file_vegetation)\n",
        "print(\"Loaded...\")\n",
        "\n",
        "df_vegetarian.head()"
      ],
      "execution_count": 5,
      "outputs": [
        {
          "output_type": "stream",
          "text": [
            "Loaded...\n"
          ],
          "name": "stdout"
        },
        {
          "output_type": "execute_result",
          "data": {
            "text/html": [
              "<div>\n",
              "<style scoped>\n",
              "    .dataframe tbody tr th:only-of-type {\n",
              "        vertical-align: middle;\n",
              "    }\n",
              "\n",
              "    .dataframe tbody tr th {\n",
              "        vertical-align: top;\n",
              "    }\n",
              "\n",
              "    .dataframe thead th {\n",
              "        text-align: right;\n",
              "    }\n",
              "</style>\n",
              "<table border=\"1\" class=\"dataframe\">\n",
              "  <thead>\n",
              "    <tr style=\"text-align: right;\">\n",
              "      <th></th>\n",
              "      <th>Region</th>\n",
              "      <th>Date</th>\n",
              "      <th>Vegetation_index_mean</th>\n",
              "      <th>Vegetation_index_max</th>\n",
              "      <th>Vegetation_index_min</th>\n",
              "      <th>Vegetation_index_std</th>\n",
              "      <th>Vegetation_index_variance</th>\n",
              "    </tr>\n",
              "  </thead>\n",
              "  <tbody>\n",
              "    <tr>\n",
              "      <th>0</th>\n",
              "      <td>NSW</td>\n",
              "      <td>1/1/2005</td>\n",
              "      <td>0.349202</td>\n",
              "      <td>0.9972</td>\n",
              "      <td>-0.2</td>\n",
              "      <td>0.204862</td>\n",
              "      <td>0.041968</td>\n",
              "    </tr>\n",
              "    <tr>\n",
              "      <th>1</th>\n",
              "      <td>NSW</td>\n",
              "      <td>2/1/2005</td>\n",
              "      <td>0.357403</td>\n",
              "      <td>0.9772</td>\n",
              "      <td>-0.2</td>\n",
              "      <td>0.208673</td>\n",
              "      <td>0.043544</td>\n",
              "    </tr>\n",
              "    <tr>\n",
              "      <th>2</th>\n",
              "      <td>NSW</td>\n",
              "      <td>3/1/2005</td>\n",
              "      <td>0.354087</td>\n",
              "      <td>0.9750</td>\n",
              "      <td>-0.2</td>\n",
              "      <td>0.209450</td>\n",
              "      <td>0.043869</td>\n",
              "    </tr>\n",
              "    <tr>\n",
              "      <th>3</th>\n",
              "      <td>NSW</td>\n",
              "      <td>4/1/2005</td>\n",
              "      <td>0.347242</td>\n",
              "      <td>0.9904</td>\n",
              "      <td>-0.2</td>\n",
              "      <td>0.207307</td>\n",
              "      <td>0.042976</td>\n",
              "    </tr>\n",
              "    <tr>\n",
              "      <th>4</th>\n",
              "      <td>NSW</td>\n",
              "      <td>5/1/2005</td>\n",
              "      <td>0.345526</td>\n",
              "      <td>0.9972</td>\n",
              "      <td>-0.2</td>\n",
              "      <td>0.202858</td>\n",
              "      <td>0.041151</td>\n",
              "    </tr>\n",
              "  </tbody>\n",
              "</table>\n",
              "</div>"
            ],
            "text/plain": [
              "  Region      Date  ...  Vegetation_index_std  Vegetation_index_variance\n",
              "0    NSW  1/1/2005  ...              0.204862                   0.041968\n",
              "1    NSW  2/1/2005  ...              0.208673                   0.043544\n",
              "2    NSW  3/1/2005  ...              0.209450                   0.043869\n",
              "3    NSW  4/1/2005  ...              0.207307                   0.042976\n",
              "4    NSW  5/1/2005  ...              0.202858                   0.041151\n",
              "\n",
              "[5 rows x 7 columns]"
            ]
          },
          "metadata": {
            "tags": []
          },
          "execution_count": 5
        }
      ]
    },
    {
      "cell_type": "code",
      "metadata": {
        "colab": {
          "base_uri": "https://localhost:8080/"
        },
        "id": "wHVSJzvgfnOU",
        "outputId": "0231aef1-f668-4d76-c078-b3c463c350d7"
      },
      "source": [
        "# Checking data types of each columns\n",
        "df_vegetarian.dtypes"
      ],
      "execution_count": 6,
      "outputs": [
        {
          "output_type": "execute_result",
          "data": {
            "text/plain": [
              "Region                        object\n",
              "Date                          object\n",
              "Vegetation_index_mean        float64\n",
              "Vegetation_index_max         float64\n",
              "Vegetation_index_min         float64\n",
              "Vegetation_index_std         float64\n",
              "Vegetation_index_variance    float64\n",
              "dtype: object"
            ]
          },
          "metadata": {
            "tags": []
          },
          "execution_count": 6
        }
      ]
    },
    {
      "cell_type": "code",
      "metadata": {
        "colab": {
          "base_uri": "https://localhost:8080/"
        },
        "id": "4PQs-NSufp5L",
        "outputId": "1c336c3a-bcd6-4f53-d433-80b990bb7db6"
      },
      "source": [
        "df_vegetarian['Date'] = pd.to_datetime(df_vegetarian['Date'])\n",
        "print(\"Minimum Date: {}\".format(df_vegetarian['Date'].min()))\n",
        "print(\"Maximum Date: {}\".format(df_vegetarian['Date'].max()))"
      ],
      "execution_count": 7,
      "outputs": [
        {
          "output_type": "stream",
          "text": [
            "Minimum Date: 2005-01-01 00:00:00\n",
            "Maximum Date: 2020-10-01 00:00:00\n"
          ],
          "name": "stdout"
        }
      ]
    },
    {
      "cell_type": "code",
      "metadata": {
        "colab": {
          "base_uri": "https://localhost:8080/"
        },
        "id": "P_xR-oQUfsQs",
        "outputId": "63d335b8-729f-49ef-ba16-c1dc02447fca"
      },
      "source": [
        "num_rows, num_cols = df_vegetarian.shape\n",
        "print(\"There are total {} records in the following {} columns:\\n\".format(num_rows, num_cols))\n",
        "print(\"\\n\".join(list(df_vegetarian.columns)))"
      ],
      "execution_count": 8,
      "outputs": [
        {
          "output_type": "stream",
          "text": [
            "There are total 1330 records in the following 7 columns:\n",
            "\n",
            "Region\n",
            "Date\n",
            "Vegetation_index_mean\n",
            "Vegetation_index_max\n",
            "Vegetation_index_min\n",
            "Vegetation_index_std\n",
            "Vegetation_index_variance\n"
          ],
          "name": "stdout"
        }
      ]
    },
    {
      "cell_type": "code",
      "metadata": {
        "colab": {
          "base_uri": "https://localhost:8080/"
        },
        "id": "_hHnPjqHfvPi",
        "outputId": "c3eff1ae-5774-4ae5-a9e5-29a89c45b259"
      },
      "source": [
        "df_vegetarian.isna().sum()"
      ],
      "execution_count": 9,
      "outputs": [
        {
          "output_type": "execute_result",
          "data": {
            "text/plain": [
              "Region                       0\n",
              "Date                         0\n",
              "Vegetation_index_mean        0\n",
              "Vegetation_index_max         0\n",
              "Vegetation_index_min         0\n",
              "Vegetation_index_std         0\n",
              "Vegetation_index_variance    0\n",
              "dtype: int64"
            ]
          },
          "metadata": {
            "tags": []
          },
          "execution_count": 9
        }
      ]
    },
    {
      "cell_type": "code",
      "metadata": {
        "colab": {
          "base_uri": "https://localhost:8080/",
          "height": 343
        },
        "id": "Jbjl73HXf0Ck",
        "outputId": "6e908b18-0fb9-44e7-c771-4360bdd6ef5e"
      },
      "source": [
        "num_rows, num_cols = df_vegetarian.shape\n",
        "print(\"There are total {} records.\\n\".format(num_rows, num_cols))\n",
        "df_vegetarian.head()"
      ],
      "execution_count": 10,
      "outputs": [
        {
          "output_type": "stream",
          "text": [
            "There are total 1330 records.\n",
            "\n"
          ],
          "name": "stdout"
        },
        {
          "output_type": "execute_result",
          "data": {
            "text/html": [
              "<div>\n",
              "<style scoped>\n",
              "    .dataframe tbody tr th:only-of-type {\n",
              "        vertical-align: middle;\n",
              "    }\n",
              "\n",
              "    .dataframe tbody tr th {\n",
              "        vertical-align: top;\n",
              "    }\n",
              "\n",
              "    .dataframe thead th {\n",
              "        text-align: right;\n",
              "    }\n",
              "</style>\n",
              "<table border=\"1\" class=\"dataframe\">\n",
              "  <thead>\n",
              "    <tr style=\"text-align: right;\">\n",
              "      <th></th>\n",
              "      <th>Region</th>\n",
              "      <th>Date</th>\n",
              "      <th>Vegetation_index_mean</th>\n",
              "      <th>Vegetation_index_max</th>\n",
              "      <th>Vegetation_index_min</th>\n",
              "      <th>Vegetation_index_std</th>\n",
              "      <th>Vegetation_index_variance</th>\n",
              "    </tr>\n",
              "  </thead>\n",
              "  <tbody>\n",
              "    <tr>\n",
              "      <th>0</th>\n",
              "      <td>NSW</td>\n",
              "      <td>2005-01-01</td>\n",
              "      <td>0.349202</td>\n",
              "      <td>0.9972</td>\n",
              "      <td>-0.2</td>\n",
              "      <td>0.204862</td>\n",
              "      <td>0.041968</td>\n",
              "    </tr>\n",
              "    <tr>\n",
              "      <th>1</th>\n",
              "      <td>NSW</td>\n",
              "      <td>2005-02-01</td>\n",
              "      <td>0.357403</td>\n",
              "      <td>0.9772</td>\n",
              "      <td>-0.2</td>\n",
              "      <td>0.208673</td>\n",
              "      <td>0.043544</td>\n",
              "    </tr>\n",
              "    <tr>\n",
              "      <th>2</th>\n",
              "      <td>NSW</td>\n",
              "      <td>2005-03-01</td>\n",
              "      <td>0.354087</td>\n",
              "      <td>0.9750</td>\n",
              "      <td>-0.2</td>\n",
              "      <td>0.209450</td>\n",
              "      <td>0.043869</td>\n",
              "    </tr>\n",
              "    <tr>\n",
              "      <th>3</th>\n",
              "      <td>NSW</td>\n",
              "      <td>2005-04-01</td>\n",
              "      <td>0.347242</td>\n",
              "      <td>0.9904</td>\n",
              "      <td>-0.2</td>\n",
              "      <td>0.207307</td>\n",
              "      <td>0.042976</td>\n",
              "    </tr>\n",
              "    <tr>\n",
              "      <th>4</th>\n",
              "      <td>NSW</td>\n",
              "      <td>2005-05-01</td>\n",
              "      <td>0.345526</td>\n",
              "      <td>0.9972</td>\n",
              "      <td>-0.2</td>\n",
              "      <td>0.202858</td>\n",
              "      <td>0.041151</td>\n",
              "    </tr>\n",
              "  </tbody>\n",
              "</table>\n",
              "</div>"
            ],
            "text/plain": [
              "  Region       Date  ...  Vegetation_index_std  Vegetation_index_variance\n",
              "0    NSW 2005-01-01  ...              0.204862                   0.041968\n",
              "1    NSW 2005-02-01  ...              0.208673                   0.043544\n",
              "2    NSW 2005-03-01  ...              0.209450                   0.043869\n",
              "3    NSW 2005-04-01  ...              0.207307                   0.042976\n",
              "4    NSW 2005-05-01  ...              0.202858                   0.041151\n",
              "\n",
              "[5 rows x 7 columns]"
            ]
          },
          "metadata": {
            "tags": []
          },
          "execution_count": 10
        }
      ]
    }
  ]
}